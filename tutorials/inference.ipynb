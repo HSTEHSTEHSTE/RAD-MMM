{
 "cells": [
  {
   "cell_type": "code",
   "execution_count": 1,
   "id": "ea0cc444",
   "metadata": {},
   "outputs": [],
   "source": [
    "# Welcome to RAD-MMM inference tutorial"
   ]
  },
  {
   "cell_type": "code",
   "execution_count": 2,
   "id": "a3a5d706",
   "metadata": {},
   "outputs": [],
   "source": [
    "!chmod 777 infer.sh"
   ]
  },
  {
   "cell_type": "code",
   "execution_count": 1,
   "id": "ca2228bd",
   "metadata": {},
   "outputs": [
    {
     "name": "stdout",
     "output_type": "stream",
     "text": [
      "Traceback (most recent call last):\n",
      "  File \"/akshit/scratch/RAD-MMM/tts_main.py\", line 22, in <module>\n",
      "    from tts_lightning_modules import TTSModel\n",
      "  File \"/akshit/scratch/RAD-MMM/tts_lightning_modules.py\", line 32, in <module>\n",
      "    from data import AudioDataset, DataCollate\n",
      "  File \"/akshit/scratch/RAD-MMM/data.py\", line 46, in <module>\n",
      "    from scripts.phonemize_text import phonemize_text\n",
      "ModuleNotFoundError: No module named 'scripts.phonemize_text'\n"
     ]
    }
   ],
   "source": [
    "!./infer.sh"
   ]
  },
  {
   "cell_type": "code",
   "execution_count": 2,
   "id": "7265121b",
   "metadata": {},
   "outputs": [
    {
     "name": "stdout",
     "output_type": "stream",
     "text": [
      "Archive:  assets-20240226T002917Z-001.zip\n",
      "  inflating: assets/hi_HI_word_ipa_map.txt  \n",
      "  inflating: assets/te_TE_word_ipa_map.txt  \n",
      "  inflating: assets/fr_FR_word_ipa_map.txt  \n",
      "  inflating: assets/pt_BR_word_ipa_map.txt  \n",
      "  inflating: assets/en_UK_word_ipa_map.txt  \n",
      "  inflating: assets/es_ES_word_ipa_map.txt  \n",
      "  inflating: assets/de_DE_word_ipa_map.txt  \n",
      "  inflating: assets/es_CO_word_ipa_map.txt  \n",
      "  inflating: assets/en_US_word_ipa_map.txt  \n"
     ]
    }
   ],
   "source": [
    "!cd /akshit/scratch && unzip assets-20240226T002917Z-001.zip"
   ]
  },
  {
   "cell_type": "code",
   "execution_count": 4,
   "id": "81d7335e",
   "metadata": {},
   "outputs": [
    {
     "name": "stdout",
     "output_type": "stream",
     "text": [
      "-rw-r--r-- 1 root root 45M Feb 26 23:43 /akshit/scratch/generator_ckpt/radmmm_public/attribute_model.ckpt\n"
     ]
    }
   ],
   "source": [
    "!ls -alht /akshit/scratch/generator_ckpt/radmmm_public/attribute_model.ckpt"
   ]
  },
  {
   "cell_type": "code",
   "execution_count": null,
   "id": "89e454ba",
   "metadata": {},
   "outputs": [],
   "source": []
  }
 ],
 "metadata": {
  "kernelspec": {
   "display_name": "Python 3 (ipykernel)",
   "language": "python",
   "name": "python3"
  },
  "language_info": {
   "codemirror_mode": {
    "name": "ipython",
    "version": 3
   },
   "file_extension": ".py",
   "mimetype": "text/x-python",
   "name": "python",
   "nbconvert_exporter": "python",
   "pygments_lexer": "ipython3",
   "version": "3.10.12"
  }
 },
 "nbformat": 4,
 "nbformat_minor": 5
}
