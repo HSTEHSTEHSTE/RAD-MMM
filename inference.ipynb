{
 "cells": [
  {
   "cell_type": "code",
   "execution_count": 1,
   "id": "3c5c0102",
   "metadata": {},
   "outputs": [],
   "source": [
    "# Welcome to RAD-MMM inference tutorial\n",
    "\n",
    "## imports\n",
    "import pytorch_lightning as pl\n",
    "import sys\n",
    "import yaml\n",
    "sys.path.append('/akshit/scratch/RAD-MMM/vocoders')\n",
    "sys.path.append('/akshit/scratch/RAD-MMM')\n",
    "from pytorch_lightning.cli import LightningCLI\n",
    "from tts_lightning_modules import TTSModel\n",
    "from data_modules import BaseAudioDataModule\n",
    "from jsonargparse import lazy_instance\n",
    "from decoders import RADMMMFlow\n",
    "from loss import RADTTSLoss\n",
    "import inspect\n",
    "from pytorch_lightning.callbacks import ModelCheckpoint\n",
    "from training_callbacks import LogDecoderSamplesCallback, \\\n",
    "    LogAttributeSamplesCallback\n",
    "from utils import get_class_args\n",
    "from tts_text_processing.text_processing import TextProcessing\n",
    "from common import Encoder"
   ]
  },
  {
   "cell_type": "code",
   "execution_count": 2,
   "id": "2738468b-2171-4137-9c28-4702b5db9092",
   "metadata": {},
   "outputs": [],
   "source": [
    "from tts_main import RADTTSLightningCLI,lcli"
   ]
  },
  {
   "cell_type": "code",
   "execution_count": null,
   "id": "7b05e7b4-1561-4cf0-9953-50ea676ab33e",
   "metadata": {},
   "outputs": [],
   "source": []
  },
  {
   "cell_type": "code",
   "execution_count": 3,
   "id": "9b6c72a3-2e28-47c6-bb9d-4e0b53845456",
   "metadata": {},
   "outputs": [
    {
     "data": {
      "text/plain": [
       "'2.3.0dev'"
      ]
     },
     "execution_count": 3,
     "metadata": {},
     "output_type": "execute_result"
    }
   ],
   "source": [
    "pl.__version__"
   ]
  },
  {
   "cell_type": "code",
   "execution_count": 4,
   "id": "e04b4759",
   "metadata": {},
   "outputs": [],
   "source": [
    "# Set paths\n",
    "attribute_model_path = \"/akshit/scratch/generator_ckpt/radmmm_public/attribute_model.ckpt\"\n",
    "decoder_model_path = \"/akshit/scratch/generator_ckpt/radmmm_public/decoder.ckpt\"\n",
    "gen_config_path = \"/akshit/scratch/generator_ckpt/radmmm_public/config_interactive.yaml\"\n",
    "voc_model_path = \"/akshit/scratch/generator_ckpt/hfg_public/g_00072000\"\n",
    "voc_config_path = \"/akshit/scratch/generator_ckpt/hfg_public/config_16khz.json\"\n",
    "phonemizer_cfg='{\"en_US\": \"assets/en_US_word_ipa_map.txt\",\"es_MX\": \"assets/es_MX_word_ipa_map.txt\",\"de_DE\": \"assets/de_DE_word_ipa_map.txt\",\"en_UK\": \"assets/en_UK_word_ipa_map.txt\",\"es_CO\": \"assets/es_CO_word_ipa_map.txt\",\"es_ES\": \"assets/es_ES_word_ipa_map.txt\",\"fr_FR\": \"assets/fr_FR_word_ipa_map.txt\",\"hi_HI\": \"assets/hi_HI_word_ipa_map.txt\",\"pt_BR\": \"assets/pt_BR_word_ipa_map.txt\",\"te_TE\": \"assets/te_TE_word_ipa_map.txt\"}'"
   ]
  },
  {
   "cell_type": "code",
   "execution_count": null,
   "id": "d5356651-8a00-4440-acb9-5257428620fe",
   "metadata": {},
   "outputs": [],
   "source": []
  },
  {
   "cell_type": "code",
   "execution_count": 5,
   "id": "d5f90560-816d-4c65-b59a-915b28fc1a77",
   "metadata": {
    "scrolled": true
   },
   "outputs": [],
   "source": [
    "# import mock\n",
    "\n",
    "# with mock.patch(\"sys.argv\", [\"predict\", \"--config=\"+gen_config_path,\\\n",
    "#                              # \"--ckpt_path=\"+attribute_model_path,\\\n",
    "#                              \"--model.predict_mode=tts\", \\\n",
    "#                              \"--data.inference_transcript=model_inputs/resynthesis_prompts.json\", \\\n",
    "#                              \"--model.prediction_output_dir=/akshit/scratch/RAD-MMM/tutorials/out1\", \\\n",
    "#                              \"--trainer.devices=1\", \"--data.batch_size=1\", \\\n",
    "#                              \"--model.vocoder_checkpoint_path=\"+voc_model_path, \\\n",
    "#                              \"--model.vocoder_config_path=\"+voc_config_path, \\\n",
    "#                              \"--data.phonemizer_cfg=\"+'{\"en_US\": \"assets/en_US_word_ipa_map.txt\",\"es_MX\": \"assets/es_MX_word_ipa_map.txt\",\"de_DE\": \"assets/de_DE_word_ipa_map.txt\",\"en_UK\": \"assets/en_UK_word_ipa_map.txt\",\"es_CO\": \"assets/es_CO_word_ipa_map.txt\",\"es_ES\": \"assets/es_ES_word_ipa_map.txt\",\"fr_FR\": \"assets/fr_FR_word_ipa_map.txt\",\"hi_HI\": \"assets/hi_HI_word_ipa_map.txt\",\"pt_BR\": \"assets/pt_BR_word_ipa_map.txt\",\"te_TE\": \"assets/te_TE_word_ipa_map.txt\"}', \\\n",
    "#                              \"--model.encoders_path=\"+decoder_model_path, \\\n",
    "#                              \"--model.decoder_path=\"+decoder_model_path, \\\n",
    "#                              \"--model.output_directory=/akshit/scratch/RAD-MMM/tutorials/run1\"]):\n",
    "#     cli = RADTTSLightningCLI(TTSModel, BaseAudioDataModule, save_config_kwargs={\"overwrite\": True}, run=False)"
   ]
  },
  {
   "cell_type": "code",
   "execution_count": 6,
   "id": "80bf7184-cc86-4fa1-9d6f-7306ccc624e3",
   "metadata": {},
   "outputs": [],
   "source": [
    "# results in issue - SIGSEV\n",
    "\n",
    "# cli.trainer.predict(model=cli.model,datamodule=cli.datamodule)"
   ]
  },
  {
   "cell_type": "code",
   "execution_count": 5,
   "id": "f50cd070-2311-42d8-82ed-1352e3c96188",
   "metadata": {},
   "outputs": [
    {
     "ename": "TypeError",
     "evalue": "instantiate_module() missing 2 required positional arguments: 'class_type' and 'config'",
     "output_type": "error",
     "traceback": [
      "\u001b[0;31m---------------------------------------------------------------------------\u001b[0m",
      "\u001b[0;31mTypeError\u001b[0m                                 Traceback (most recent call last)",
      "Cell \u001b[0;32mIn[5], line 4\u001b[0m\n\u001b[1;32m      2\u001b[0m \u001b[38;5;28;01mimport\u001b[39;00m \u001b[38;5;21;01mpytorch_lightning\u001b[39;00m\n\u001b[1;32m      3\u001b[0m \u001b[38;5;28;01mimport\u001b[39;00m \u001b[38;5;21;01minspect\u001b[39;00m\n\u001b[0;32m----> 4\u001b[0m inspect\u001b[38;5;241m.\u001b[39msignature(\u001b[43mpytorch_lightning\u001b[49m\u001b[38;5;241;43m.\u001b[39;49m\u001b[43mcli\u001b[49m\u001b[38;5;241;43m.\u001b[39;49m\u001b[43minstantiate_module\u001b[49m\u001b[43m(\u001b[49m\u001b[43m)\u001b[49m)\n",
      "\u001b[0;31mTypeError\u001b[0m: instantiate_module() missing 2 required positional arguments: 'class_type' and 'config'"
     ]
    }
   ],
   "source": [
    "# attempting to load the model\n",
    "import pytorch_lightning\n",
    "import inspect\n",
    "inspect.signature(pytorch_lightning.cli.instantiate_module())"
   ]
  },
  {
   "cell_type": "code",
   "execution_count": 7,
   "id": "8c366d31-416e-4346-8589-0db6c8cfa2ed",
   "metadata": {},
   "outputs": [
    {
     "ename": "ArgumentError",
     "evalue": "Parser key \"module.decoder\":\n  Not a valid subclass of Module. Got value: {'class_path': 'decoders.RADMMMFlow', 'init_args': {'n_speaker_dim': 16, 'use_accent': True, 'n_accent_dim': 8, 'n_text_dim': 520, 'n_group_size': 2, 'n_mel_channels': 80, 'use_spk_emb_for_alignment': False, 'n_f0_dims': 1, 'n_energy_avg_dims': 1, 'context_w_f0_and_energy': True, 'use_context_lstm': True, 'n_flows': 8, 'n_conv_layers_per_step': 4, 'n_early_size': 2, 'n_early_every': 2, 'affine_model': 'wavenet', 'scaling_fn': 'tanh', 'affine_activation': 'softplus', 'use_partial_padding': True, 'n_splines': 0, 'use_bn': True, 'freeze_whitening_layer': False, 'use_accent_emb_for_decoder': False}}\n  Subclass types expect one of:\n  - a class path (str)\n  - a dict with class_path entry\n  - a dict without class_path but with init_args entry (class path given previously)",
     "output_type": "error",
     "traceback": [
      "\u001b[0;31m---------------------------------------------------------------------------\u001b[0m",
      "\u001b[0;31mValueError\u001b[0m                                Traceback (most recent call last)",
      "File \u001b[0;32m/opt/conda/lib/python3.10/site-packages/jsonargparse/_typehints.py:513\u001b[0m, in \u001b[0;36mActionTypeHint._check_type\u001b[0;34m(self, value, append, cfg)\u001b[0m\n\u001b[1;32m    512\u001b[0m     \u001b[38;5;28;01mif\u001b[39;00m ex:\n\u001b[0;32m--> 513\u001b[0m         \u001b[38;5;28;01mraise\u001b[39;00m ex\n\u001b[1;32m    515\u001b[0m \u001b[38;5;28;01mif\u001b[39;00m path_meta \u001b[38;5;129;01mis\u001b[39;00m \u001b[38;5;129;01mnot\u001b[39;00m \u001b[38;5;28;01mNone\u001b[39;00m:\n",
      "File \u001b[0;32m/opt/conda/lib/python3.10/site-packages/jsonargparse/_typehints.py:500\u001b[0m, in \u001b[0;36mActionTypeHint._check_type\u001b[0;34m(self, value, append, cfg)\u001b[0m\n\u001b[1;32m    499\u001b[0m     \u001b[38;5;28;01mwith\u001b[39;00m change_to_path_dir(config_path):\n\u001b[0;32m--> 500\u001b[0m         val \u001b[38;5;241m=\u001b[39m \u001b[43madapt_typehints\u001b[49m\u001b[43m(\u001b[49m\u001b[43mval\u001b[49m\u001b[43m,\u001b[49m\u001b[43m \u001b[49m\u001b[38;5;28;43mself\u001b[39;49m\u001b[38;5;241;43m.\u001b[39;49m\u001b[43m_typehint\u001b[49m\u001b[43m,\u001b[49m\u001b[43m \u001b[49m\u001b[38;5;241;43m*\u001b[39;49m\u001b[38;5;241;43m*\u001b[39;49m\u001b[43mkwargs\u001b[49m\u001b[43m)\u001b[49m\n\u001b[1;32m    501\u001b[0m \u001b[38;5;28;01mexcept\u001b[39;00m \u001b[38;5;167;01mValueError\u001b[39;00m \u001b[38;5;28;01mas\u001b[39;00m ex:\n",
      "File \u001b[0;32m/opt/conda/lib/python3.10/site-packages/jsonargparse/_typehints.py:881\u001b[0m, in \u001b[0;36madapt_typehints\u001b[0;34m(val, typehint, serialize, instantiate_classes, prev_val, append, list_item, enable_path, sub_add_kwargs, default)\u001b[0m\n\u001b[1;32m    880\u001b[0m \u001b[38;5;28;01mif\u001b[39;00m \u001b[38;5;129;01mnot\u001b[39;00m is_subclass_spec(val):\n\u001b[0;32m--> 881\u001b[0m     \u001b[43mraise_unexpected_value\u001b[49m\u001b[43m(\u001b[49m\n\u001b[1;32m    882\u001b[0m \u001b[43m        \u001b[49m\u001b[38;5;124;43mf\u001b[39;49m\u001b[38;5;124;43m\"\u001b[39;49m\u001b[38;5;124;43mNot a valid subclass of \u001b[39;49m\u001b[38;5;132;43;01m{\u001b[39;49;00m\u001b[43mtypehint\u001b[49m\u001b[38;5;241;43m.\u001b[39;49m\u001b[38;5;18;43m__name__\u001b[39;49m\u001b[38;5;132;43;01m}\u001b[39;49;00m\u001b[38;5;124;43m. Got value: \u001b[39;49m\u001b[38;5;132;43;01m{\u001b[39;49;00m\u001b[43mval_input\u001b[49m\u001b[38;5;132;43;01m}\u001b[39;49;00m\u001b[38;5;130;43;01m\\n\u001b[39;49;00m\u001b[38;5;124;43m\"\u001b[39;49m\n\u001b[1;32m    883\u001b[0m \u001b[43m        \u001b[49m\u001b[38;5;124;43m\"\u001b[39;49m\u001b[38;5;124;43mSubclass types expect one of:\u001b[39;49m\u001b[38;5;130;43;01m\\n\u001b[39;49;00m\u001b[38;5;124;43m\"\u001b[39;49m\n\u001b[1;32m    884\u001b[0m \u001b[43m        \u001b[49m\u001b[38;5;124;43m\"\u001b[39;49m\u001b[38;5;124;43m- a class path (str)\u001b[39;49m\u001b[38;5;130;43;01m\\n\u001b[39;49;00m\u001b[38;5;124;43m\"\u001b[39;49m\n\u001b[1;32m    885\u001b[0m \u001b[43m        \u001b[49m\u001b[38;5;124;43m\"\u001b[39;49m\u001b[38;5;124;43m- a dict with class_path entry\u001b[39;49m\u001b[38;5;130;43;01m\\n\u001b[39;49;00m\u001b[38;5;124;43m\"\u001b[39;49m\n\u001b[1;32m    886\u001b[0m \u001b[43m        \u001b[49m\u001b[38;5;124;43m\"\u001b[39;49m\u001b[38;5;124;43m- a dict without class_path but with init_args entry (class path given previously)\u001b[39;49m\u001b[38;5;124;43m\"\u001b[39;49m\n\u001b[1;32m    887\u001b[0m \u001b[43m    \u001b[49m\u001b[43m)\u001b[49m\n\u001b[1;32m    889\u001b[0m \u001b[38;5;28;01mtry\u001b[39;00m:\n",
      "File \u001b[0;32m/opt/conda/lib/python3.10/site-packages/jsonargparse/_typehints.py:601\u001b[0m, in \u001b[0;36mraise_unexpected_value\u001b[0;34m(message, val, exception)\u001b[0m\n\u001b[1;32m    600\u001b[0m     message \u001b[38;5;241m+\u001b[39m\u001b[38;5;241m=\u001b[39m \u001b[38;5;124mf\u001b[39m\u001b[38;5;124m\"\u001b[39m\u001b[38;5;124m. Got value: \u001b[39m\u001b[38;5;132;01m{\u001b[39;00mval\u001b[38;5;132;01m}\u001b[39;00m\u001b[38;5;124m\"\u001b[39m\n\u001b[0;32m--> 601\u001b[0m \u001b[38;5;28;01mraise\u001b[39;00m \u001b[38;5;167;01mValueError\u001b[39;00m(message) \u001b[38;5;28;01mfrom\u001b[39;00m \u001b[38;5;21;01mexception\u001b[39;00m\n",
      "\u001b[0;31mValueError\u001b[0m: Not a valid subclass of Module. Got value: {'class_path': 'decoders.RADMMMFlow', 'init_args': {'n_speaker_dim': 16, 'use_accent': True, 'n_accent_dim': 8, 'n_text_dim': 520, 'n_group_size': 2, 'n_mel_channels': 80, 'use_spk_emb_for_alignment': False, 'n_f0_dims': 1, 'n_energy_avg_dims': 1, 'context_w_f0_and_energy': True, 'use_context_lstm': True, 'n_flows': 8, 'n_conv_layers_per_step': 4, 'n_early_size': 2, 'n_early_every': 2, 'affine_model': 'wavenet', 'scaling_fn': 'tanh', 'affine_activation': 'softplus', 'use_partial_padding': True, 'n_splines': 0, 'use_bn': True, 'freeze_whitening_layer': False, 'use_accent_emb_for_decoder': False}}\nSubclass types expect one of:\n- a class path (str)\n- a dict with class_path entry\n- a dict without class_path but with init_args entry (class path given previously)",
      "\nThe above exception was the direct cause of the following exception:\n",
      "\u001b[0;31mTypeError\u001b[0m                                 Traceback (most recent call last)",
      "File \u001b[0;32m/opt/conda/lib/python3.10/site-packages/jsonargparse/_core.py:438\u001b[0m, in \u001b[0;36mArgumentParser.parse_object\u001b[0;34m(self, cfg_obj, cfg_base, env, defaults, with_meta, **kwargs)\u001b[0m\n\u001b[1;32m    436\u001b[0m     cfg \u001b[38;5;241m=\u001b[39m \u001b[38;5;28mself\u001b[39m\u001b[38;5;241m.\u001b[39mmerge_config(cfg_base, cfg)\n\u001b[0;32m--> 438\u001b[0m cfg_apply \u001b[38;5;241m=\u001b[39m \u001b[38;5;28;43mself\u001b[39;49m\u001b[38;5;241;43m.\u001b[39;49m\u001b[43m_apply_actions\u001b[49m\u001b[43m(\u001b[49m\u001b[43mcfg_obj\u001b[49m\u001b[43m,\u001b[49m\u001b[43m \u001b[49m\u001b[43mprev_cfg\u001b[49m\u001b[38;5;241;43m=\u001b[39;49m\u001b[43mcfg\u001b[49m\u001b[43m)\u001b[49m\n\u001b[1;32m    439\u001b[0m cfg \u001b[38;5;241m=\u001b[39m \u001b[38;5;28mself\u001b[39m\u001b[38;5;241m.\u001b[39mmerge_config(cfg_apply, cfg)\n",
      "File \u001b[0;32m/opt/conda/lib/python3.10/site-packages/jsonargparse/_core.py:1299\u001b[0m, in \u001b[0;36mArgumentParser._apply_actions\u001b[0;34m(self, cfg, parent_key, prev_cfg, skip_fn)\u001b[0m\n\u001b[1;32m   1298\u001b[0m \u001b[38;5;28;01mwith\u001b[39;00m parser_context(parent_parser\u001b[38;5;241m=\u001b[39m\u001b[38;5;28mself\u001b[39m, lenient_check\u001b[38;5;241m=\u001b[39m\u001b[38;5;28;01mTrue\u001b[39;00m):\n\u001b[0;32m-> 1299\u001b[0m     value \u001b[38;5;241m=\u001b[39m \u001b[38;5;28;43mself\u001b[39;49m\u001b[38;5;241;43m.\u001b[39;49m\u001b[43m_check_value_key\u001b[49m\u001b[43m(\u001b[49m\u001b[43maction\u001b[49m\u001b[43m,\u001b[49m\u001b[43m \u001b[49m\u001b[43mvalue\u001b[49m\u001b[43m,\u001b[49m\u001b[43m \u001b[49m\u001b[43maction_dest\u001b[49m\u001b[43m,\u001b[49m\u001b[43m \u001b[49m\u001b[43mprev_cfg\u001b[49m\u001b[43m)\u001b[49m\n\u001b[1;32m   1300\u001b[0m \u001b[38;5;28;01mif\u001b[39;00m \u001b[38;5;28misinstance\u001b[39m(action, _ActionConfigLoad):\n",
      "File \u001b[0;32m/opt/conda/lib/python3.10/site-packages/jsonargparse/_core.py:1350\u001b[0m, in \u001b[0;36mArgumentParser._check_value_key\u001b[0;34m(self, action, value, key, cfg)\u001b[0m\n\u001b[1;32m   1349\u001b[0m     \u001b[38;5;28;01mwith\u001b[39;00m parser_context(parent_parser\u001b[38;5;241m=\u001b[39m\u001b[38;5;28mself\u001b[39m):\n\u001b[0;32m-> 1350\u001b[0m         value \u001b[38;5;241m=\u001b[39m \u001b[43maction\u001b[49m\u001b[38;5;241;43m.\u001b[39;49m\u001b[43m_check_type_\u001b[49m\u001b[43m(\u001b[49m\u001b[43mvalue\u001b[49m\u001b[43m,\u001b[49m\u001b[43m \u001b[49m\u001b[43mcfg\u001b[49m\u001b[38;5;241;43m=\u001b[39;49m\u001b[43mcfg\u001b[49m\u001b[43m)\u001b[49m  \u001b[38;5;66;03m# type: ignore[attr-defined]\u001b[39;00m\n\u001b[1;32m   1351\u001b[0m \u001b[38;5;28;01melif\u001b[39;00m action\u001b[38;5;241m.\u001b[39mtype \u001b[38;5;129;01mis\u001b[39;00m \u001b[38;5;129;01mnot\u001b[39;00m \u001b[38;5;28;01mNone\u001b[39;00m:\n",
      "File \u001b[0;32m/opt/conda/lib/python3.10/site-packages/jsonargparse/_common.py:248\u001b[0m, in \u001b[0;36mAction._check_type_\u001b[0;34m(self, value, **kwargs)\u001b[0m\n\u001b[1;32m    247\u001b[0m kwargs \u001b[38;5;241m=\u001b[39m {k: v \u001b[38;5;28;01mfor\u001b[39;00m k, v \u001b[38;5;129;01min\u001b[39;00m kwargs\u001b[38;5;241m.\u001b[39mitems() \u001b[38;5;28;01mif\u001b[39;00m k \u001b[38;5;129;01min\u001b[39;00m \u001b[38;5;28mself\u001b[39m\u001b[38;5;241m.\u001b[39m_check_type_kwargs}\n\u001b[0;32m--> 248\u001b[0m \u001b[38;5;28;01mreturn\u001b[39;00m \u001b[38;5;28;43mself\u001b[39;49m\u001b[38;5;241;43m.\u001b[39;49m\u001b[43m_check_type\u001b[49m\u001b[43m(\u001b[49m\u001b[43mvalue\u001b[49m\u001b[43m,\u001b[49m\u001b[43m \u001b[49m\u001b[38;5;241;43m*\u001b[39;49m\u001b[38;5;241;43m*\u001b[39;49m\u001b[43mkwargs\u001b[49m\u001b[43m)\u001b[49m\n",
      "File \u001b[0;32m/opt/conda/lib/python3.10/site-packages/jsonargparse/_typehints.py:523\u001b[0m, in \u001b[0;36mActionTypeHint._check_type\u001b[0;34m(self, value, append, cfg)\u001b[0m\n\u001b[1;32m    522\u001b[0m         error \u001b[38;5;241m=\u001b[39m indent_text(\u001b[38;5;28mstr\u001b[39m(ex))\n\u001b[0;32m--> 523\u001b[0m         \u001b[38;5;28;01mraise\u001b[39;00m \u001b[38;5;167;01mTypeError\u001b[39;00m(\u001b[38;5;124mf\u001b[39m\u001b[38;5;124m'\u001b[39m\u001b[38;5;124mParser key \u001b[39m\u001b[38;5;124m\"\u001b[39m\u001b[38;5;132;01m{\u001b[39;00m\u001b[38;5;28mself\u001b[39m\u001b[38;5;241m.\u001b[39mdest\u001b[38;5;132;01m}\u001b[39;00m\u001b[38;5;124m\"\u001b[39m\u001b[38;5;132;01m{\u001b[39;00melem\u001b[38;5;132;01m}\u001b[39;00m\u001b[38;5;124m:\u001b[39m\u001b[38;5;130;01m\\n\u001b[39;00m\u001b[38;5;132;01m{\u001b[39;00merror\u001b[38;5;132;01m}\u001b[39;00m\u001b[38;5;124m'\u001b[39m) \u001b[38;5;28;01mfrom\u001b[39;00m \u001b[38;5;21;01mex\u001b[39;00m\n\u001b[1;32m    524\u001b[0m \u001b[38;5;28;01mreturn\u001b[39;00m value \u001b[38;5;28;01mif\u001b[39;00m islist \u001b[38;5;28;01melse\u001b[39;00m value[\u001b[38;5;241m0\u001b[39m]\n",
      "\u001b[0;31mTypeError\u001b[0m: Parser key \"module.decoder\":\n  Not a valid subclass of Module. Got value: {'class_path': 'decoders.RADMMMFlow', 'init_args': {'n_speaker_dim': 16, 'use_accent': True, 'n_accent_dim': 8, 'n_text_dim': 520, 'n_group_size': 2, 'n_mel_channels': 80, 'use_spk_emb_for_alignment': False, 'n_f0_dims': 1, 'n_energy_avg_dims': 1, 'context_w_f0_and_energy': True, 'use_context_lstm': True, 'n_flows': 8, 'n_conv_layers_per_step': 4, 'n_early_size': 2, 'n_early_every': 2, 'affine_model': 'wavenet', 'scaling_fn': 'tanh', 'affine_activation': 'softplus', 'use_partial_padding': True, 'n_splines': 0, 'use_bn': True, 'freeze_whitening_layer': False, 'use_accent_emb_for_decoder': False}}\n  Subclass types expect one of:\n  - a class path (str)\n  - a dict with class_path entry\n  - a dict without class_path but with init_args entry (class path given previously)",
      "\nThe above exception was the direct cause of the following exception:\n",
      "\u001b[0;31mArgumentError\u001b[0m                             Traceback (most recent call last)",
      "Cell \u001b[0;32mIn[7], line 2\u001b[0m\n\u001b[1;32m      1\u001b[0m \u001b[38;5;66;03m# https://github.com/Lightning-AI/pytorch-lightning/pull/18105/files \u001b[39;00m\n\u001b[0;32m----> 2\u001b[0m model2\u001b[38;5;241m=\u001b[39m \u001b[43mTTSModel\u001b[49m\u001b[38;5;241;43m.\u001b[39;49m\u001b[43mload_from_checkpoint\u001b[49m\u001b[43m(\u001b[49m\u001b[43mcheckpoint_path\u001b[49m\u001b[38;5;241;43m=\u001b[39;49m\u001b[43mattribute_model_path\u001b[49m\u001b[43m,\u001b[49m\u001b[43mhparams_file\u001b[49m\u001b[38;5;241;43m=\u001b[39;49m\u001b[38;5;124;43m\"\u001b[39;49m\u001b[38;5;124;43m/akshit/scratch/RAD-MMM/tutorials/run1/lightning_logs/version_13/hparams.yaml\u001b[39;49m\u001b[38;5;124;43m\"\u001b[39;49m\u001b[43m,\u001b[49m\u001b[43m \u001b[49m\u001b[43mstrict\u001b[49m\u001b[38;5;241;43m=\u001b[39;49m\u001b[38;5;28;43;01mFalse\u001b[39;49;00m\u001b[43m)\u001b[49m\n",
      "File \u001b[0;32m/opt/conda/lib/python3.10/site-packages/lightning/pytorch/utilities/model_helpers.py:125\u001b[0m, in \u001b[0;36m_restricted_classmethod_impl.__get__.<locals>.wrapper\u001b[0;34m(*args, **kwargs)\u001b[0m\n\u001b[1;32m    120\u001b[0m \u001b[38;5;28;01mif\u001b[39;00m instance \u001b[38;5;129;01mis\u001b[39;00m \u001b[38;5;129;01mnot\u001b[39;00m \u001b[38;5;28;01mNone\u001b[39;00m \u001b[38;5;129;01mand\u001b[39;00m \u001b[38;5;129;01mnot\u001b[39;00m is_scripting:\n\u001b[1;32m    121\u001b[0m     \u001b[38;5;28;01mraise\u001b[39;00m \u001b[38;5;167;01mTypeError\u001b[39;00m(\n\u001b[1;32m    122\u001b[0m         \u001b[38;5;124mf\u001b[39m\u001b[38;5;124m\"\u001b[39m\u001b[38;5;124mThe classmethod `\u001b[39m\u001b[38;5;132;01m{\u001b[39;00m\u001b[38;5;28mcls\u001b[39m\u001b[38;5;241m.\u001b[39m\u001b[38;5;18m__name__\u001b[39m\u001b[38;5;132;01m}\u001b[39;00m\u001b[38;5;124m.\u001b[39m\u001b[38;5;132;01m{\u001b[39;00m\u001b[38;5;28mself\u001b[39m\u001b[38;5;241m.\u001b[39mmethod\u001b[38;5;241m.\u001b[39m\u001b[38;5;18m__name__\u001b[39m\u001b[38;5;132;01m}\u001b[39;00m\u001b[38;5;124m` cannot be called on an instance.\u001b[39m\u001b[38;5;124m\"\u001b[39m\n\u001b[1;32m    123\u001b[0m         \u001b[38;5;124m\"\u001b[39m\u001b[38;5;124m Please call it on the class type and make sure the return value is used.\u001b[39m\u001b[38;5;124m\"\u001b[39m\n\u001b[1;32m    124\u001b[0m     )\n\u001b[0;32m--> 125\u001b[0m \u001b[38;5;28;01mreturn\u001b[39;00m \u001b[38;5;28;43mself\u001b[39;49m\u001b[38;5;241;43m.\u001b[39;49m\u001b[43mmethod\u001b[49m\u001b[43m(\u001b[49m\u001b[38;5;28;43mcls\u001b[39;49m\u001b[43m,\u001b[49m\u001b[43m \u001b[49m\u001b[38;5;241;43m*\u001b[39;49m\u001b[43margs\u001b[49m\u001b[43m,\u001b[49m\u001b[43m \u001b[49m\u001b[38;5;241;43m*\u001b[39;49m\u001b[38;5;241;43m*\u001b[39;49m\u001b[43mkwargs\u001b[49m\u001b[43m)\u001b[49m\n",
      "File \u001b[0;32m/opt/conda/lib/python3.10/site-packages/lightning/pytorch/core/module.py:1574\u001b[0m, in \u001b[0;36mLightningModule.load_from_checkpoint\u001b[0;34m(cls, checkpoint_path, map_location, hparams_file, strict, **kwargs)\u001b[0m\n\u001b[1;32m   1485\u001b[0m \u001b[38;5;129m@_restricted_classmethod\u001b[39m\n\u001b[1;32m   1486\u001b[0m \u001b[38;5;28;01mdef\u001b[39;00m \u001b[38;5;21mload_from_checkpoint\u001b[39m(\n\u001b[1;32m   1487\u001b[0m     \u001b[38;5;28mcls\u001b[39m,\n\u001b[0;32m   (...)\u001b[0m\n\u001b[1;32m   1492\u001b[0m     \u001b[38;5;241m*\u001b[39m\u001b[38;5;241m*\u001b[39mkwargs: Any,\n\u001b[1;32m   1493\u001b[0m ) \u001b[38;5;241m-\u001b[39m\u001b[38;5;241m>\u001b[39m Self:\n\u001b[1;32m   1494\u001b[0m     \u001b[38;5;124mr\u001b[39m\u001b[38;5;124;03m\"\"\"Primary way of loading a model from a checkpoint. When Lightning saves a checkpoint it stores the arguments\u001b[39;00m\n\u001b[1;32m   1495\u001b[0m \u001b[38;5;124;03m    passed to ``__init__``  in the checkpoint under ``\"hyper_parameters\"``.\u001b[39;00m\n\u001b[1;32m   1496\u001b[0m \n\u001b[0;32m   (...)\u001b[0m\n\u001b[1;32m   1572\u001b[0m \n\u001b[1;32m   1573\u001b[0m \u001b[38;5;124;03m    \"\"\"\u001b[39;00m\n\u001b[0;32m-> 1574\u001b[0m     loaded \u001b[38;5;241m=\u001b[39m \u001b[43m_load_from_checkpoint\u001b[49m\u001b[43m(\u001b[49m\n\u001b[1;32m   1575\u001b[0m \u001b[43m        \u001b[49m\u001b[38;5;28;43mcls\u001b[39;49m\u001b[43m,\u001b[49m\u001b[43m  \u001b[49m\u001b[38;5;66;43;03m# type: ignore[arg-type]\u001b[39;49;00m\n\u001b[1;32m   1576\u001b[0m \u001b[43m        \u001b[49m\u001b[43mcheckpoint_path\u001b[49m\u001b[43m,\u001b[49m\n\u001b[1;32m   1577\u001b[0m \u001b[43m        \u001b[49m\u001b[43mmap_location\u001b[49m\u001b[43m,\u001b[49m\n\u001b[1;32m   1578\u001b[0m \u001b[43m        \u001b[49m\u001b[43mhparams_file\u001b[49m\u001b[43m,\u001b[49m\n\u001b[1;32m   1579\u001b[0m \u001b[43m        \u001b[49m\u001b[43mstrict\u001b[49m\u001b[43m,\u001b[49m\n\u001b[1;32m   1580\u001b[0m \u001b[43m        \u001b[49m\u001b[38;5;241;43m*\u001b[39;49m\u001b[38;5;241;43m*\u001b[39;49m\u001b[43mkwargs\u001b[49m\u001b[43m,\u001b[49m\n\u001b[1;32m   1581\u001b[0m \u001b[43m    \u001b[49m\u001b[43m)\u001b[49m\n\u001b[1;32m   1582\u001b[0m     \u001b[38;5;28;01mreturn\u001b[39;00m cast(Self, loaded)\n",
      "File \u001b[0;32m/opt/conda/lib/python3.10/site-packages/lightning/pytorch/core/saving.py:91\u001b[0m, in \u001b[0;36m_load_from_checkpoint\u001b[0;34m(cls, checkpoint_path, map_location, hparams_file, strict, **kwargs)\u001b[0m\n\u001b[1;32m     89\u001b[0m     \u001b[38;5;28;01mreturn\u001b[39;00m _load_state(\u001b[38;5;28mcls\u001b[39m, checkpoint, \u001b[38;5;241m*\u001b[39m\u001b[38;5;241m*\u001b[39mkwargs)\n\u001b[1;32m     90\u001b[0m \u001b[38;5;28;01mif\u001b[39;00m \u001b[38;5;28missubclass\u001b[39m(\u001b[38;5;28mcls\u001b[39m, pl\u001b[38;5;241m.\u001b[39mLightningModule):\n\u001b[0;32m---> 91\u001b[0m     model \u001b[38;5;241m=\u001b[39m \u001b[43m_load_state\u001b[49m\u001b[43m(\u001b[49m\u001b[38;5;28;43mcls\u001b[39;49m\u001b[43m,\u001b[49m\u001b[43m \u001b[49m\u001b[43mcheckpoint\u001b[49m\u001b[43m,\u001b[49m\u001b[43m \u001b[49m\u001b[43mstrict\u001b[49m\u001b[38;5;241;43m=\u001b[39;49m\u001b[43mstrict\u001b[49m\u001b[43m,\u001b[49m\u001b[43m \u001b[49m\u001b[38;5;241;43m*\u001b[39;49m\u001b[38;5;241;43m*\u001b[39;49m\u001b[43mkwargs\u001b[49m\u001b[43m)\u001b[49m\n\u001b[1;32m     92\u001b[0m     state_dict \u001b[38;5;241m=\u001b[39m checkpoint[\u001b[38;5;124m\"\u001b[39m\u001b[38;5;124mstate_dict\u001b[39m\u001b[38;5;124m\"\u001b[39m]\n\u001b[1;32m     93\u001b[0m     \u001b[38;5;28;01mif\u001b[39;00m \u001b[38;5;129;01mnot\u001b[39;00m state_dict:\n",
      "File \u001b[0;32m/opt/conda/lib/python3.10/site-packages/lightning/pytorch/core/saving.py:165\u001b[0m, in \u001b[0;36m_load_state\u001b[0;34m(cls, checkpoint, strict, **cls_kwargs_new)\u001b[0m\n\u001b[1;32m    161\u001b[0m \u001b[38;5;28;01mif\u001b[39;00m \u001b[38;5;129;01mnot\u001b[39;00m cls_spec\u001b[38;5;241m.\u001b[39mvarkw:\n\u001b[1;32m    162\u001b[0m     \u001b[38;5;66;03m# filter kwargs according to class init unless it allows any argument via kwargs\u001b[39;00m\n\u001b[1;32m    163\u001b[0m     _cls_kwargs \u001b[38;5;241m=\u001b[39m {k: v \u001b[38;5;28;01mfor\u001b[39;00m k, v \u001b[38;5;129;01min\u001b[39;00m _cls_kwargs\u001b[38;5;241m.\u001b[39mitems() \u001b[38;5;28;01mif\u001b[39;00m k \u001b[38;5;129;01min\u001b[39;00m cls_init_args_name}\n\u001b[0;32m--> 165\u001b[0m obj \u001b[38;5;241m=\u001b[39m \u001b[43minstantiator\u001b[49m\u001b[43m(\u001b[49m\u001b[38;5;28;43mcls\u001b[39;49m\u001b[43m,\u001b[49m\u001b[43m \u001b[49m\u001b[43m_cls_kwargs\u001b[49m\u001b[43m)\u001b[49m \u001b[38;5;28;01mif\u001b[39;00m instantiator \u001b[38;5;28;01melse\u001b[39;00m \u001b[38;5;28mcls\u001b[39m(\u001b[38;5;241m*\u001b[39m\u001b[38;5;241m*\u001b[39m_cls_kwargs)\n\u001b[1;32m    167\u001b[0m \u001b[38;5;28;01mif\u001b[39;00m \u001b[38;5;28misinstance\u001b[39m(obj, pl\u001b[38;5;241m.\u001b[39mLightningDataModule):\n\u001b[1;32m    168\u001b[0m     \u001b[38;5;28;01mif\u001b[39;00m obj\u001b[38;5;241m.\u001b[39m\u001b[38;5;18m__class__\u001b[39m\u001b[38;5;241m.\u001b[39m\u001b[38;5;18m__qualname__\u001b[39m \u001b[38;5;129;01min\u001b[39;00m checkpoint:\n",
      "File \u001b[0;32m/opt/conda/lib/python3.10/site-packages/lightning/pytorch/cli.py:807\u001b[0m, in \u001b[0;36minstantiate_module\u001b[0;34m(class_type, config)\u001b[0m\n\u001b[1;32m    805\u001b[0m \u001b[38;5;28;01melse\u001b[39;00m:\n\u001b[1;32m    806\u001b[0m     parser\u001b[38;5;241m.\u001b[39madd_class_arguments(class_type, \u001b[38;5;124m\"\u001b[39m\u001b[38;5;124mmodule\u001b[39m\u001b[38;5;124m\"\u001b[39m)\n\u001b[0;32m--> 807\u001b[0m cfg \u001b[38;5;241m=\u001b[39m \u001b[43mparser\u001b[49m\u001b[38;5;241;43m.\u001b[39;49m\u001b[43mparse_object\u001b[49m\u001b[43m(\u001b[49m\u001b[43m{\u001b[49m\u001b[38;5;124;43m\"\u001b[39;49m\u001b[38;5;124;43mmodule\u001b[39;49m\u001b[38;5;124;43m\"\u001b[39;49m\u001b[43m:\u001b[49m\u001b[43m \u001b[49m\u001b[43mconfig\u001b[49m\u001b[43m}\u001b[49m\u001b[43m)\u001b[49m\n\u001b[1;32m    808\u001b[0m init \u001b[38;5;241m=\u001b[39m parser\u001b[38;5;241m.\u001b[39minstantiate_classes(cfg)\n\u001b[1;32m    809\u001b[0m \u001b[38;5;28;01mreturn\u001b[39;00m init\u001b[38;5;241m.\u001b[39mmodule\n",
      "File \u001b[0;32m/opt/conda/lib/python3.10/site-packages/jsonargparse/_deprecated.py:124\u001b[0m, in \u001b[0;36mparse_as_dict_patch.<locals>.patch_parse_method.<locals>.patched_parse\u001b[0;34m(self, _skip_check, *args, **kwargs)\u001b[0m\n\u001b[1;32m    122\u001b[0m \u001b[38;5;28;01mdef\u001b[39;00m \u001b[38;5;21mpatched_parse\u001b[39m(\u001b[38;5;28mself\u001b[39m, \u001b[38;5;241m*\u001b[39margs, _skip_check: \u001b[38;5;28mbool\u001b[39m \u001b[38;5;241m=\u001b[39m \u001b[38;5;28;01mFalse\u001b[39;00m, \u001b[38;5;241m*\u001b[39m\u001b[38;5;241m*\u001b[39mkwargs) \u001b[38;5;241m-\u001b[39m\u001b[38;5;241m>\u001b[39m Union[Namespace, Dict[\u001b[38;5;28mstr\u001b[39m, Any]]:\n\u001b[1;32m    123\u001b[0m     parse_method \u001b[38;5;241m=\u001b[39m \u001b[38;5;28mgetattr\u001b[39m(\u001b[38;5;28mself\u001b[39m, unpatched_method_name)\n\u001b[0;32m--> 124\u001b[0m     cfg \u001b[38;5;241m=\u001b[39m \u001b[43mparse_method\u001b[49m\u001b[43m(\u001b[49m\u001b[38;5;241;43m*\u001b[39;49m\u001b[43margs\u001b[49m\u001b[43m,\u001b[49m\u001b[43m \u001b[49m\u001b[43m_skip_check\u001b[49m\u001b[38;5;241;43m=\u001b[39;49m\u001b[43m_skip_check\u001b[49m\u001b[43m,\u001b[49m\u001b[43m \u001b[49m\u001b[38;5;241;43m*\u001b[39;49m\u001b[38;5;241;43m*\u001b[39;49m\u001b[43mkwargs\u001b[49m\u001b[43m)\u001b[49m\n\u001b[1;32m    125\u001b[0m     \u001b[38;5;28;01mreturn\u001b[39;00m cfg\u001b[38;5;241m.\u001b[39mas_dict() \u001b[38;5;28;01mif\u001b[39;00m \u001b[38;5;28mself\u001b[39m\u001b[38;5;241m.\u001b[39m_parse_as_dict \u001b[38;5;129;01mand\u001b[39;00m \u001b[38;5;129;01mnot\u001b[39;00m _skip_check \u001b[38;5;28;01melse\u001b[39;00m cfg\n",
      "File \u001b[0;32m/opt/conda/lib/python3.10/site-packages/jsonargparse/_core.py:451\u001b[0m, in \u001b[0;36mArgumentParser.parse_object\u001b[0;34m(self, cfg_obj, cfg_base, env, defaults, with_meta, **kwargs)\u001b[0m\n\u001b[1;32m    441\u001b[0m     parsed_cfg \u001b[38;5;241m=\u001b[39m \u001b[38;5;28mself\u001b[39m\u001b[38;5;241m.\u001b[39m_parse_common(\n\u001b[1;32m    442\u001b[0m         cfg\u001b[38;5;241m=\u001b[39mcfg,\n\u001b[1;32m    443\u001b[0m         env\u001b[38;5;241m=\u001b[39menv,\n\u001b[0;32m   (...)\u001b[0m\n\u001b[1;32m    447\u001b[0m         skip_required\u001b[38;5;241m=\u001b[39mskip_required,\n\u001b[1;32m    448\u001b[0m     )\n\u001b[1;32m    450\u001b[0m \u001b[38;5;28;01mexcept\u001b[39;00m (\u001b[38;5;167;01mTypeError\u001b[39;00m, \u001b[38;5;167;01mKeyError\u001b[39;00m) \u001b[38;5;28;01mas\u001b[39;00m ex:\n\u001b[0;32m--> 451\u001b[0m     \u001b[38;5;28;43mself\u001b[39;49m\u001b[38;5;241;43m.\u001b[39;49m\u001b[43merror\u001b[49m\u001b[43m(\u001b[49m\u001b[38;5;28;43mstr\u001b[39;49m\u001b[43m(\u001b[49m\u001b[43mex\u001b[49m\u001b[43m)\u001b[49m\u001b[43m,\u001b[49m\u001b[43m \u001b[49m\u001b[43mex\u001b[49m\u001b[43m)\u001b[49m\n\u001b[1;32m    453\u001b[0m \u001b[38;5;28mself\u001b[39m\u001b[38;5;241m.\u001b[39m_logger\u001b[38;5;241m.\u001b[39mdebug(\u001b[38;5;124m\"\u001b[39m\u001b[38;5;124mParsed object: \u001b[39m\u001b[38;5;132;01m%s\u001b[39;00m\u001b[38;5;124m\"\u001b[39m, cfg_obj)\n\u001b[1;32m    454\u001b[0m \u001b[38;5;28;01mreturn\u001b[39;00m parsed_cfg\n",
      "File \u001b[0;32m/opt/conda/lib/python3.10/site-packages/jsonargparse/_core.py:999\u001b[0m, in \u001b[0;36mArgumentParser.error\u001b[0;34m(self, message, ex)\u001b[0m\n\u001b[1;32m    997\u001b[0m     \u001b[38;5;28mself\u001b[39m\u001b[38;5;241m.\u001b[39m_error_handler(\u001b[38;5;28mself\u001b[39m, message)\n\u001b[1;32m    998\u001b[0m \u001b[38;5;28;01mif\u001b[39;00m \u001b[38;5;129;01mnot\u001b[39;00m \u001b[38;5;28mself\u001b[39m\u001b[38;5;241m.\u001b[39mexit_on_error:\n\u001b[0;32m--> 999\u001b[0m     \u001b[38;5;28;01mraise\u001b[39;00m argument_error(message) \u001b[38;5;28;01mfrom\u001b[39;00m \u001b[38;5;21;01mex\u001b[39;00m\n\u001b[1;32m   1000\u001b[0m \u001b[38;5;28;01melif\u001b[39;00m debug_mode_active():\n\u001b[1;32m   1001\u001b[0m     \u001b[38;5;28mself\u001b[39m\u001b[38;5;241m.\u001b[39m_logger\u001b[38;5;241m.\u001b[39mdebug(\u001b[38;5;124m\"\u001b[39m\u001b[38;5;124mDebug enabled, thus raising exception instead of exit.\u001b[39m\u001b[38;5;124m\"\u001b[39m)\n",
      "\u001b[0;31mArgumentError\u001b[0m: Parser key \"module.decoder\":\n  Not a valid subclass of Module. Got value: {'class_path': 'decoders.RADMMMFlow', 'init_args': {'n_speaker_dim': 16, 'use_accent': True, 'n_accent_dim': 8, 'n_text_dim': 520, 'n_group_size': 2, 'n_mel_channels': 80, 'use_spk_emb_for_alignment': False, 'n_f0_dims': 1, 'n_energy_avg_dims': 1, 'context_w_f0_and_energy': True, 'use_context_lstm': True, 'n_flows': 8, 'n_conv_layers_per_step': 4, 'n_early_size': 2, 'n_early_every': 2, 'affine_model': 'wavenet', 'scaling_fn': 'tanh', 'affine_activation': 'softplus', 'use_partial_padding': True, 'n_splines': 0, 'use_bn': True, 'freeze_whitening_layer': False, 'use_accent_emb_for_decoder': False}}\n  Subclass types expect one of:\n  - a class path (str)\n  - a dict with class_path entry\n  - a dict without class_path but with init_args entry (class path given previously)"
     ]
    }
   ],
   "source": [
    "# https://github.com/Lightning-AI/pytorch-lightning/pull/18105/files \n",
    "model2= TTSModel.load_from_checkpoint(checkpoint_path=attribute_model_path,hparams_file=\"/akshit/scratch/RAD-MMM/tutorials/run1/lightning_logs/version_13/hparams.yaml\", strict=False)\n"
   ]
  },
  {
   "cell_type": "code",
   "execution_count": null,
   "id": "4bbc627b-d8e0-4592-acc3-e3fce2e1f396",
   "metadata": {},
   "outputs": [],
   "source": [
    "## some runtime error\n",
    "# with open(\"/akshit/scratch/RAD-MMM/tutorials/run1/lightning_logs/version_12/hparams.yaml\", \"r\") as f:\n",
    "#     hparams = yaml.safe_load(f)\n",
    "    \n",
    "# model2 = pytorch_lightning.cli.instantiate_module(TTSModel,config=hparams)\n"
   ]
  },
  {
   "cell_type": "code",
   "execution_count": null,
   "id": "55254e0b-8f9d-4337-9350-4e2b5df34e55",
   "metadata": {},
   "outputs": [],
   "source": [
    "import torch\n",
    "model3=torch.load(attribute_model_path)"
   ]
  },
  {
   "cell_type": "code",
   "execution_count": null,
   "id": "5cdccbda-22b0-4a16-abf9-6e79ee91e442",
   "metadata": {
    "scrolled": true
   },
   "outputs": [],
   "source": [
    "model3"
   ]
  },
  {
   "cell_type": "code",
   "execution_count": null,
   "id": "3734de79-1886-4518-a5b6-328fc13e5960",
   "metadata": {},
   "outputs": [],
   "source": [
    "model4 = torch.load(decoder_model_path)"
   ]
  },
  {
   "cell_type": "code",
   "execution_count": null,
   "id": "3b8ddc29-72a4-4d9c-b594-98178e163719",
   "metadata": {
    "scrolled": true
   },
   "outputs": [],
   "source": [
    "model4"
   ]
  },
  {
   "cell_type": "code",
   "execution_count": null,
   "id": "b3901ffc-601e-4170-b9b6-5c184c74c739",
   "metadata": {
    "scrolled": true
   },
   "outputs": [],
   "source": [
    "# run=True, like cmd line; https://lightning.ai/docs/pytorch/stable/cli/lightning_cli_advanced_3.html, fails with SIGSEGV\n",
    "# inp = [\"predict\", \"--config=\"+gen_config_path,\\\n",
    "#          # \"--ckpt_path=\"+attribute_model_path,\\\n",
    "#          \"--model.predict_mode=tts\", \\\n",
    "#          \"--data.inference_transcript='model_inputs/resynthesis_prompts.json'\", \\\n",
    "#          \"--model.prediction_output_dir='/akshit/scratch/RAD-MMM/tutorials/out1'\", \\\n",
    "#          \"--trainer.devices=1\", \"--data.batch_size=1\", \\\n",
    "#          \"--model.vocoder_checkpoint_path=\"+voc_model_path, \\\n",
    "#          \"--model.vocoder_config_path=\"+voc_config_path, \\\n",
    "#          \"--data.phonemizer_cfg=\"+'{\"en_US\": \"assets/en_US_word_ipa_map.txt\",\"es_MX\": \"assets/es_MX_word_ipa_map.txt\",\"de_DE\": \"assets/de_DE_word_ipa_map.txt\",\"en_UK\": \"assets/en_UK_word_ipa_map.txt\",\"es_CO\": \"assets/es_CO_word_ipa_map.txt\",\"es_ES\": \"assets/es_ES_word_ipa_map.txt\",\"fr_FR\": \"assets/fr_FR_word_ipa_map.txt\",\"hi_HI\": \"assets/hi_HI_word_ipa_map.txt\",\"pt_BR\": \"assets/pt_BR_word_ipa_map.txt\",\"te_TE\": \"assets/te_TE_word_ipa_map.txt\"}', \\\n",
    "#          \"--model.encoders_path=\"+decoder_model_path, \\\n",
    "#          \"--model.decoder_path=\"+decoder_model_path, \\\n",
    "#          \"--model.output_directory='/akshit/scratch/RAD-MMM/tutorials/run1'\"]\n",
    "# lcli(inp)"
   ]
  },
  {
   "cell_type": "code",
   "execution_count": null,
   "id": "879d335a-b5a1-49d0-b3bd-1525d0f85af7",
   "metadata": {},
   "outputs": [],
   "source": [
    "# https://github.com/Lightning-AI/pytorch-lightning/pull/18105 "
   ]
  },
  {
   "cell_type": "code",
   "execution_count": null,
   "id": "b813af76",
   "metadata": {},
   "outputs": [],
   "source": [
    "# # load the config files\n",
    "\n",
    "# with open(gen_config_path, \"r\") as f:\n",
    "#     gen_config = yaml.safe_load(f)\n",
    "    \n",
    "#     # set config\n",
    "#     gen_config[\"ckpt_path\"] = attribute_model_path\n",
    "#     gen_config[\"model\"][\"predict_mode\"]=\"tts\"\n",
    "#     gen_config[\"model\"][\"prediction_output_dir\"]=\"/akshit/scratch/RAD-MMM/tutorials/out1\" #ToDo\n",
    "#     gen_config[\"model\"][\"vocoder_checkpoint_path\"]=voc_model_path\n",
    "#     gen_config[\"model\"][\"vocoder_config_path\"]=voc_model_path\n",
    "#     gen_config[\"model\"][\"decoder_path\"]=decoder_model_path\n",
    "#     gen_config[\"model\"][\"encoders_path\"]=decoder_model_path\n",
    "#     gen_config[\"model\"][\"output_directory\"]=\"/akshit/scratch/RAD-MMM/tutorials/run1\"\n",
    "#     gen_config[\"trainer\"][\"devices\"]=1\n",
    "#     gen_config[\"data\"][\"inference_transcript\"]=\"model_inputs/resynthesis_prompts.json\" #ToDo\n",
    "#     gen_config[\"data\"][\"batch_size\"]=1\n",
    "#     gen_config[\"data\"][\"phonemizer_cfg\"]=phonemizer_cfg\n",
    "    \n",
    "#     # set defaults\n",
    "#     gen_config[\"checkpoint_callback\"][\"filename\"]=\"latest-epoch_{epoch}-iter_{global_step:.0f}\"\n",
    "#     gen_config[\"checkpoint_callback\"][\"monitor\"]=\"global_step\"\n",
    "#     gen_config[\"checkpoint_callback\"][\"mode\"]= \"max\"\n",
    "#     gen_config[\"checkpoint_callback\"][\"every_n_train_steps\"]= 3000\n",
    "#     gen_config[\"checkpoint_callback\"][\"dirpath\"]= \"/debug\"\n",
    "#     gen_config[\"checkpoint_callback\"][\"save_top_k\"] = -1\n",
    "#     gen_config[\"checkpoint_callback\"][\"auto_insert_metric_name\"]=False\n",
    "    \n",
    "#     # linking args\n",
    "#     gen_config[\"model\"][\"phonemizer_cfg\"]=gen_config[\"data\"][\"phonemizer_cfg\"]\n",
    "#     gen_config[\"model\"][\"add_bos_eos_to_text\"]=gen_config[\"data\"][\"add_bos_eos_to_text\"]\n",
    "#     gen_config[\"model\"][\"append_space_to_text\"]=gen_config[\"data\"][\"append_space_to_text\"]\n",
    "#     gen_config[\"model\"][\"prepend_space_to_text\"]=gen_config[\"data\"][\"prepend_space_to_text\"]\n",
    "#     gen_config[\"model\"][\"handle_phoneme_ambiguous\"]=gen_config[\"data\"][\"handle_phoneme_ambiguous\"]\n",
    "#     gen_config[\"model\"][\"handle_phoneme\"]=gen_config[\"data\"][\"handle_phoneme\"]\n",
    "#     gen_config[\"model\"][\"p_phoneme\"]=gen_config[\"data\"][\"p_phoneme\"]\n",
    "#     gen_config[\"model\"][\"phoneme_dict_path\"]=gen_config[\"data\"][\"phoneme_dict_path\"]\n",
    "#     gen_config[\"model\"][\"heteronyms_path\"]=gen_config[\"data\"][\"heteronyms_path\"]\n",
    "#     gen_config[\"model\"][\"cleaner_names\"]=gen_config[\"data\"][\"cleaner_names\"]\n",
    "#     gen_config[\"model\"][\"symbol_set\"]=gen_config[\"data\"][\"symbol_set\"]\n",
    "#     gen_config[\"model\"][\"sampling_rate\"]=gen_config[\"data\"][\"sampling_rate\"]\n",
    "#     gen_config[\"checkpoint_callback\"][\"dirpath\"]=gen_config[\"model\"][\"output_directory\"]\n",
    "#     gen_config[\"trainer\"][\"default_root_dir\"]=gen_config[\"model\"][\"output_directory\"]\n",
    "    \n",
    "    "
   ]
  },
  {
   "cell_type": "code",
   "execution_count": null,
   "id": "c39d01e7",
   "metadata": {},
   "outputs": [],
   "source": []
  },
  {
   "cell_type": "code",
   "execution_count": null,
   "id": "1c3fb967",
   "metadata": {},
   "outputs": [],
   "source": []
  },
  {
   "cell_type": "code",
   "execution_count": null,
   "id": "c89dc1dc",
   "metadata": {},
   "outputs": [],
   "source": [
    "model = cli.model\n",
    "data_module = cli.datamodule\n",
    "trainer = cli.trainer"
   ]
  },
  {
   "cell_type": "code",
   "execution_count": null,
   "id": "6c80d58f",
   "metadata": {},
   "outputs": [],
   "source": [
    "predictions = trainer.predict(model=model)"
   ]
  },
  {
   "cell_type": "code",
   "execution_count": null,
   "id": "0e0f7470",
   "metadata": {},
   "outputs": [],
   "source": [
    "model = config_init.model\n",
    "data_module = config_init.data\n",
    "trainer = config_init.trainer"
   ]
  },
  {
   "cell_type": "code",
   "execution_count": null,
   "id": "929189ce",
   "metadata": {},
   "outputs": [],
   "source": [
    "# first we go through one input at a time"
   ]
  },
  {
   "cell_type": "code",
   "execution_count": null,
   "id": "aebd2762",
   "metadata": {},
   "outputs": [],
   "source": [
    "# resynthesis input\n",
    "resyn_input = {\n",
    "      \"script\": \"{ʈ ˈɪ h ə ɾ ˌi} {b ˈã dʰ} {b ˈʌ n n ˌeː} {k eː} {d ɔː ɾ ˈaː n} {s ˈʌ n t oː} {n ˈeː} {ʋ ɪ ɾ ˈoː dʰ} {ɟ ə ɾ ˈuː ɾ} {k ˈɪ j aː} {l ˈeː k ɪ n} {pʰ ˈɪ ɾ} {tʰ ˈʌ m} {ɡ ˈʌ eː}\",\n",
    "      \"spk_id\": \"indic-iiit-hyd-female\",\n",
    "      \"decoder_spk_id\": \"indic-iiit-hyd-female\",\n",
    "      \"duration_spk_id\": \"indic-iiit-hyd-female\",\n",
    "      \"energy_spk_id\": \"indic-iiit-hyd-female\",\n",
    "      \"f0_spk_id\": \"indic-iiit-hyd-female\",\n",
    "      \"language\": \"hi_HI\",\n",
    "      \"emotion\": \"other\"}"
   ]
  },
  {
   "cell_type": "code",
   "execution_count": null,
   "id": "715c2f65",
   "metadata": {},
   "outputs": [],
   "source": [
    "# here is a gradio interface to try out multiple combinations"
   ]
  },
  {
   "cell_type": "code",
   "execution_count": null,
   "id": "5c1a725a",
   "metadata": {},
   "outputs": [],
   "source": []
  }
 ],
 "metadata": {
  "kernelspec": {
   "display_name": "Python 3 (ipykernel)",
   "language": "python",
   "name": "python3"
  },
  "language_info": {
   "codemirror_mode": {
    "name": "ipython",
    "version": 3
   },
   "file_extension": ".py",
   "mimetype": "text/x-python",
   "name": "python",
   "nbconvert_exporter": "python",
   "pygments_lexer": "ipython3",
   "version": "3.10.9"
  }
 },
 "nbformat": 4,
 "nbformat_minor": 5
}
